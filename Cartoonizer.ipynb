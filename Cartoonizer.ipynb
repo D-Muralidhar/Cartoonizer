{
 "cells": [
  {
   "cell_type": "code",
   "execution_count": 1,
   "id": "0062c80d",
   "metadata": {},
   "outputs": [],
   "source": [
    "import cv2\n",
    "import matplotlib\n",
    "import matplotlib.pyplot as plt\n",
    "import os"
   ]
  },
  {
   "cell_type": "code",
   "execution_count": 2,
   "id": "ac364463",
   "metadata": {},
   "outputs": [],
   "source": [
    "folder = r\"C:\\Users\\mural\\OneDrive\\Desktop\\inputp\"\n",
    "output_folder = r\"C:\\Users\\mural\\OneDrive\\Desktop\\outputp\"\n",
    "\n",
    "\n",
    "def cartoonify(imagefile):\n",
    "    path = os.path.join(folder,imagefile)\n",
    "    img=cv2.imread(path)\n",
    "    #Apply Bilateral Filter\n",
    "    col_img = cv2.bilateralFilter(img,5,255,255)\n",
    "    #Convert Image from bgr to gray\n",
    "    gray = cv2.cvtColor(img,cv2.COLOR_BGR2GRAY)\n",
    "\n",
    "    #Apply Median Blur\n",
    "    gray = cv2.medianBlur(gray,3)\n",
    "\n",
    "    #get the edges\n",
    "    edges = cv2.adaptiveThreshold(gray,255,cv2.ADAPTIVE_THRESH_MEAN_C,cv2.THRESH_BINARY,5,5)\n",
    "\n",
    "    #Bitwise And of bilateral filter and mask is edges\n",
    "    cartoon = cv2.bitwise_and(col_img,col_img,mask=edges)\n",
    "    return cartoon"
   ]
  },
  {
   "cell_type": "code",
   "execution_count": 3,
   "id": "938fb103",
   "metadata": {},
   "outputs": [],
   "source": [
    "def load_images_from_folder(folder):\n",
    "    images = []\n",
    "    filenames=[]\n",
    "    for filename in os.listdir(folder):\n",
    "        img = cv2.imread(os.path.join(folder,filename))\n",
    "        filenames.append(filename)\n",
    "        if img is not None:\n",
    "            images.append(img)\n",
    "    return images,filenames\n"
   ]
  },
  {
   "cell_type": "code",
   "execution_count": 4,
   "id": "7a7202bf",
   "metadata": {},
   "outputs": [],
   "source": [
    "images,filenames = load_images_from_folder(folder)\n",
    "\n",
    "#print(filenames)\n",
    "count=0\n",
    "for imagefile in filenames:\n",
    "    output_image = cartoonify(imagefile)\n",
    "    name = list(imagefile.split('.'))[0]\n",
    "    cv2.imwrite(os.path.join(output_folder,name+'.jpg'),output_image)"
   ]
  }
 ],
 "metadata": {
  "kernelspec": {
   "display_name": "Python 3 (ipykernel)",
   "language": "python",
   "name": "python3"
  },
  "language_info": {
   "codemirror_mode": {
    "name": "ipython",
    "version": 3
   },
   "file_extension": ".py",
   "mimetype": "text/x-python",
   "name": "python",
   "nbconvert_exporter": "python",
   "pygments_lexer": "ipython3",
   "version": "3.9.13"
  }
 },
 "nbformat": 4,
 "nbformat_minor": 5
}
